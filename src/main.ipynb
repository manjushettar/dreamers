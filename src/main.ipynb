{
 "cells": [
  {
   "cell_type": "code",
   "execution_count": 1,
   "metadata": {
    "vscode": {
     "languageId": "plaintext"
    }
   },
   "outputs": [],
   "source": [
    "import itertools\n",
    "import numpy as np\n",
    "import pandas as pd\n",
    "from time import time\n",
    "import seaborn as sns\n",
    "import matplotlib.pyplot as plt\n",
    "\n",
    "from sklearn.tree import DecisionTreeClassifier\n",
    "from sklearn.preprocessing import StandardScaler\n",
    "from sklearn.model_selection import ParameterGrid\n",
    "from sklearn.ensemble import RandomForestClassifier\n",
    "from sklearn.linear_model import LogisticRegression\n",
    "from sklearn.model_selection import train_test_split\n",
    "from sklearn.model_selection import RandomizedSearchCV\n",
    "from sklearn.metrics import classification_report, accuracy_score"
   ]
  },
  {
   "cell_type": "code",
   "execution_count": 2,
   "metadata": {},
   "outputs": [
    {
     "data": {
      "text/html": [
       "<div>\n",
       "<style scoped>\n",
       "    .dataframe tbody tr th:only-of-type {\n",
       "        vertical-align: middle;\n",
       "    }\n",
       "\n",
       "    .dataframe tbody tr th {\n",
       "        vertical-align: top;\n",
       "    }\n",
       "\n",
       "    .dataframe thead th {\n",
       "        text-align: right;\n",
       "    }\n",
       "</style>\n",
       "<table border=\"1\" class=\"dataframe\">\n",
       "  <thead>\n",
       "    <tr style=\"text-align: right;\">\n",
       "      <th></th>\n",
       "      <th>timestamp</th>\n",
       "      <th>open</th>\n",
       "      <th>high</th>\n",
       "      <th>low</th>\n",
       "      <th>close</th>\n",
       "      <th>volume</th>\n",
       "      <th>quote_asset_volume</th>\n",
       "      <th>number_of_trades</th>\n",
       "      <th>taker_buy_base_volume</th>\n",
       "      <th>taker_buy_quote_volume</th>\n",
       "      <th>target</th>\n",
       "    </tr>\n",
       "  </thead>\n",
       "  <tbody>\n",
       "    <tr>\n",
       "      <th>0</th>\n",
       "      <td>1525471260</td>\n",
       "      <td>0.90120</td>\n",
       "      <td>0.90130</td>\n",
       "      <td>0.90120</td>\n",
       "      <td>0.90130</td>\n",
       "      <td>134.98</td>\n",
       "      <td>121.646459</td>\n",
       "      <td>4.0</td>\n",
       "      <td>125.08</td>\n",
       "      <td>112.723589</td>\n",
       "      <td>1.0</td>\n",
       "    </tr>\n",
       "    <tr>\n",
       "      <th>1</th>\n",
       "      <td>1525471320</td>\n",
       "      <td>0.90185</td>\n",
       "      <td>0.90195</td>\n",
       "      <td>0.90185</td>\n",
       "      <td>0.90195</td>\n",
       "      <td>1070.54</td>\n",
       "      <td>965.505313</td>\n",
       "      <td>12.0</td>\n",
       "      <td>879.94</td>\n",
       "      <td>793.612703</td>\n",
       "      <td>0.0</td>\n",
       "    </tr>\n",
       "    <tr>\n",
       "      <th>2</th>\n",
       "      <td>1525471380</td>\n",
       "      <td>0.90140</td>\n",
       "      <td>0.90140</td>\n",
       "      <td>0.90139</td>\n",
       "      <td>0.90139</td>\n",
       "      <td>2293.06</td>\n",
       "      <td>2066.963991</td>\n",
       "      <td>5.0</td>\n",
       "      <td>0.00</td>\n",
       "      <td>0.000000</td>\n",
       "      <td>0.0</td>\n",
       "    </tr>\n",
       "    <tr>\n",
       "      <th>3</th>\n",
       "      <td>1525471440</td>\n",
       "      <td>0.90139</td>\n",
       "      <td>0.90140</td>\n",
       "      <td>0.90138</td>\n",
       "      <td>0.90139</td>\n",
       "      <td>6850.59</td>\n",
       "      <td>6175.000909</td>\n",
       "      <td>19.0</td>\n",
       "      <td>1786.30</td>\n",
       "      <td>1610.149485</td>\n",
       "      <td>0.0</td>\n",
       "    </tr>\n",
       "    <tr>\n",
       "      <th>4</th>\n",
       "      <td>1525471500</td>\n",
       "      <td>0.90139</td>\n",
       "      <td>0.90139</td>\n",
       "      <td>0.90130</td>\n",
       "      <td>0.90130</td>\n",
       "      <td>832.30</td>\n",
       "      <td>750.222624</td>\n",
       "      <td>3.0</td>\n",
       "      <td>784.82</td>\n",
       "      <td>707.428900</td>\n",
       "      <td>0.0</td>\n",
       "    </tr>\n",
       "  </tbody>\n",
       "</table>\n",
       "</div>"
      ],
      "text/plain": [
       "    timestamp     open     high      low    close   volume  \\\n",
       "0  1525471260  0.90120  0.90130  0.90120  0.90130   134.98   \n",
       "1  1525471320  0.90185  0.90195  0.90185  0.90195  1070.54   \n",
       "2  1525471380  0.90140  0.90140  0.90139  0.90139  2293.06   \n",
       "3  1525471440  0.90139  0.90140  0.90138  0.90139  6850.59   \n",
       "4  1525471500  0.90139  0.90139  0.90130  0.90130   832.30   \n",
       "\n",
       "   quote_asset_volume  number_of_trades  taker_buy_base_volume  \\\n",
       "0          121.646459               4.0                 125.08   \n",
       "1          965.505313              12.0                 879.94   \n",
       "2         2066.963991               5.0                   0.00   \n",
       "3         6175.000909              19.0                1786.30   \n",
       "4          750.222624               3.0                 784.82   \n",
       "\n",
       "   taker_buy_quote_volume  target  \n",
       "0              112.723589     1.0  \n",
       "1              793.612703     0.0  \n",
       "2                0.000000     0.0  \n",
       "3             1610.149485     0.0  \n",
       "4              707.428900     0.0  "
      ]
     },
     "execution_count": 2,
     "metadata": {},
     "output_type": "execute_result"
    }
   ],
   "source": [
    "train_data = pd.read_csv('../data/train.csv')\n",
    "train_data.head()"
   ]
  },
  {
   "cell_type": "code",
   "execution_count": 3,
   "metadata": {},
   "outputs": [],
   "source": [
    "train_data['close_open_range'] = train_data['close'] - train_data['open']\n",
    "train_data['high_low_range'] = train_data['high'] - train_data['low']\n",
    "\n",
    "train_data['taker_buy_combined'] = train_data['taker_buy_base_volume'] + train_data['taker_buy_quote_volume']\n",
    "train_data['close_open_trades'] = train_data['close_open_range'] * train_data['number_of_trades']\n",
    "train_data['volume_price_interaction'] = train_data['quote_asset_volume'] * train_data['close_open_range']\n",
    "train_data['lagged_close_open'] = train_data['close_open_range'].shift(1)\n",
    "train_data['lagged_volume'] = train_data['quote_asset_volume'].shift(1)\n",
    "\n",
    "train_data.dropna(inplace=True)"
   ]
  },
  {
   "cell_type": "code",
   "execution_count": 4,
   "metadata": {},
   "outputs": [
    {
     "name": "stdout",
     "output_type": "stream",
     "text": [
      "(2122437, 18)\n",
      "<class 'pandas.core.frame.DataFrame'>\n",
      "Index: 2122437 entries, 1 to 2122437\n",
      "Data columns (total 18 columns):\n",
      " #   Column                    Dtype  \n",
      "---  ------                    -----  \n",
      " 0   timestamp                 int64  \n",
      " 1   open                      float64\n",
      " 2   high                      float64\n",
      " 3   low                       float64\n",
      " 4   close                     float64\n",
      " 5   volume                    float64\n",
      " 6   quote_asset_volume        float64\n",
      " 7   number_of_trades          float64\n",
      " 8   taker_buy_base_volume     float64\n",
      " 9   taker_buy_quote_volume    float64\n",
      " 10  target                    float64\n",
      " 11  close_open_range          float64\n",
      " 12  high_low_range            float64\n",
      " 13  taker_buy_combined        float64\n",
      " 14  close_open_trades         float64\n",
      " 15  volume_price_interaction  float64\n",
      " 16  lagged_close_open         float64\n",
      " 17  lagged_volume             float64\n",
      "dtypes: float64(17), int64(1)\n",
      "memory usage: 307.7 MB\n",
      "None\n",
      "timestamp                   0\n",
      "open                        0\n",
      "high                        0\n",
      "low                         0\n",
      "close                       0\n",
      "volume                      0\n",
      "quote_asset_volume          0\n",
      "number_of_trades            0\n",
      "taker_buy_base_volume       0\n",
      "taker_buy_quote_volume      0\n",
      "target                      0\n",
      "close_open_range            0\n",
      "high_low_range              0\n",
      "taker_buy_combined          0\n",
      "close_open_trades           0\n",
      "volume_price_interaction    0\n",
      "lagged_close_open           0\n",
      "lagged_volume               0\n",
      "dtype: int64\n"
     ]
    }
   ],
   "source": [
    "print(train_data.shape)\n",
    "print(train_data.info())\n",
    "print(train_data.isnull().sum())"
   ]
  },
  {
   "cell_type": "code",
   "execution_count": 5,
   "metadata": {},
   "outputs": [],
   "source": [
    "features = ['close', 'quote_asset_volume', 'taker_buy_combined', 'taker_buy_base_volume', 'number_of_trades', 'volume']\n",
    "target = 'target'\n",
    "\n",
    "scaler = StandardScaler()\n",
    "train_data[features] = scaler.fit_transform(train_data[features])"
   ]
  },
  {
   "cell_type": "code",
   "execution_count": 6,
   "metadata": {},
   "outputs": [],
   "source": [
    "X = train_data[features]\n",
    "y = train_data[target]\n",
    "\n",
    "X_train, X_test, y_train, y_test = train_test_split(X, y, test_size=0.7, random_state=42)"
   ]
  },
  {
   "cell_type": "code",
   "execution_count": 7,
   "metadata": {},
   "outputs": [
    {
     "data": {
      "text/plain": [
       "636731"
      ]
     },
     "execution_count": 7,
     "metadata": {},
     "output_type": "execute_result"
    }
   ],
   "source": [
    "len(X_train)"
   ]
  },
  {
   "cell_type": "code",
   "execution_count": 15,
   "metadata": {},
   "outputs": [],
   "source": [
    "param_grid = {\n",
    "    'n_estimators': [50, 100],\n",
    "    'max_depth': [5, 10],\n",
    "    'min_samples_split': [2, 5],\n",
    "}"
   ]
  },
  {
   "cell_type": "code",
   "execution_count": 16,
   "metadata": {},
   "outputs": [],
   "source": [
    "best_score = 0\n",
    "best_params = None\n",
    "param_combinations = list(ParameterGrid(param_grid))\n",
    "total_combinations = len(param_combinations)"
   ]
  },
  {
   "cell_type": "code",
   "execution_count": 17,
   "metadata": {},
   "outputs": [
    {
     "name": "stdout",
     "output_type": "stream",
     "text": [
      "Completed 1/8: {'max_depth': 5, 'min_samples_split': 2, 'n_estimators': 50} with score 0.5260 (Time: 5.71s)\n",
      "Completed 2/8: {'max_depth': 5, 'min_samples_split': 2, 'n_estimators': 100} with score 0.5260 (Time: 13.11s)\n",
      "Completed 3/8: {'max_depth': 5, 'min_samples_split': 5, 'n_estimators': 50} with score 0.5260 (Time: 6.00s)\n",
      "Completed 4/8: {'max_depth': 5, 'min_samples_split': 5, 'n_estimators': 100} with score 0.5260 (Time: 11.00s)\n",
      "Completed 5/8: {'max_depth': 10, 'min_samples_split': 2, 'n_estimators': 50} with score 0.5261 (Time: 11.59s)\n",
      "Completed 6/8: {'max_depth': 10, 'min_samples_split': 2, 'n_estimators': 100} with score 0.5263 (Time: 21.81s)\n",
      "Completed 7/8: {'max_depth': 10, 'min_samples_split': 5, 'n_estimators': 50} with score 0.5260 (Time: 10.10s)\n",
      "Completed 8/8: {'max_depth': 10, 'min_samples_split': 5, 'n_estimators': 100} with score 0.5260 (Time: 22.42s)\n",
      "Best Params: {'max_depth': 10, 'min_samples_split': 2, 'n_estimators': 100}\n",
      "Best Score: 0.526323512188818\n"
     ]
    }
   ],
   "source": [
    "for idx, params in enumerate(param_combinations, 1):\n",
    "    start = time()\n",
    "    model = RandomForestClassifier(**params, random_state=42, n_jobs=-1)\n",
    "    model.fit(X_train, y_train)\n",
    "    score = model.score(X_test, y_test)\n",
    "    \n",
    "    if score > best_score:\n",
    "        best_score = score\n",
    "        best_params = params\n",
    "    \n",
    "    # Log progress\n",
    "    duration = time() - start\n",
    "    print(f\"Completed {idx}/{total_combinations}: {params} with score {score:.4f} (Time: {duration:.2f}s)\")\n",
    "\n",
    "print(\"Best Params:\", best_params)\n",
    "print(\"Best Score:\", best_score)"
   ]
  },
  {
   "cell_type": "code",
   "execution_count": 18,
   "metadata": {},
   "outputs": [],
   "source": [
    "rf_predictions = model.predict(X_test)"
   ]
  },
  {
   "cell_type": "code",
   "execution_count": 19,
   "metadata": {},
   "outputs": [
    {
     "name": "stdout",
     "output_type": "stream",
     "text": [
      "Accuracy:  0.5260408183045636\n",
      "              precision    recall  f1-score   support\n",
      "\n",
      "         0.0       0.53      0.93      0.67    779662\n",
      "         1.0       0.51      0.08      0.14    706044\n",
      "\n",
      "    accuracy                           0.53   1485706\n",
      "   macro avg       0.52      0.51      0.41   1485706\n",
      "weighted avg       0.52      0.53      0.42   1485706\n",
      "\n"
     ]
    }
   ],
   "source": [
    "print(\"Accuracy: \", accuracy_score(y_test, rf_predictions))\n",
    "print(classification_report(y_test, rf_predictions))"
   ]
  },
  {
   "cell_type": "code",
   "execution_count": 20,
   "metadata": {},
   "outputs": [],
   "source": [
    "test_data = pd.read_csv('../data/test.csv')"
   ]
  },
  {
   "cell_type": "code",
   "execution_count": 21,
   "metadata": {},
   "outputs": [],
   "source": [
    "test_data['close_open_range'] = test_data['close'] - test_data['open']\n",
    "test_data['high_low_range'] = test_data['high'] - test_data['low']\n",
    "\n",
    "test_data['taker_buy_combined'] = test_data['taker_buy_base_volume'] + test_data['taker_buy_quote_volume']\n",
    "test_data['close_open_trades'] = test_data['close_open_range'] * test_data['number_of_trades']\n",
    "test_data['volume_price_interaction'] = test_data['quote_asset_volume'] * test_data['close_open_range']\n",
    "test_data['lagged_close_open'] = test_data['close_open_range'].shift(1)\n",
    "test_data['lagged_volume'] = test_data['quote_asset_volume'].shift(1)\n",
    "\n",
    "test_data.dropna(inplace=True)"
   ]
  },
  {
   "cell_type": "code",
   "execution_count": 22,
   "metadata": {},
   "outputs": [],
   "source": [
    "test_data[features] = scaler.fit_transform(test_data[features])"
   ]
  },
  {
   "cell_type": "code",
   "execution_count": 23,
   "metadata": {},
   "outputs": [],
   "source": [
    "pred = model.predict(test_data[features])"
   ]
  },
  {
   "cell_type": "code",
   "execution_count": 43,
   "metadata": {},
   "outputs": [
    {
     "data": {
      "text/html": [
       "<div>\n",
       "<style scoped>\n",
       "    .dataframe tbody tr th:only-of-type {\n",
       "        vertical-align: middle;\n",
       "    }\n",
       "\n",
       "    .dataframe tbody tr th {\n",
       "        vertical-align: top;\n",
       "    }\n",
       "\n",
       "    .dataframe thead th {\n",
       "        text-align: right;\n",
       "    }\n",
       "</style>\n",
       "<table border=\"1\" class=\"dataframe\">\n",
       "  <thead>\n",
       "    <tr style=\"text-align: right;\">\n",
       "      <th></th>\n",
       "      <th>row_id</th>\n",
       "      <th>target</th>\n",
       "    </tr>\n",
       "  </thead>\n",
       "  <tbody>\n",
       "    <tr>\n",
       "      <th>0</th>\n",
       "      <td>0</td>\n",
       "      <td>0</td>\n",
       "    </tr>\n",
       "    <tr>\n",
       "      <th>1</th>\n",
       "      <td>1</td>\n",
       "      <td>0</td>\n",
       "    </tr>\n",
       "    <tr>\n",
       "      <th>2</th>\n",
       "      <td>2</td>\n",
       "      <td>1</td>\n",
       "    </tr>\n",
       "    <tr>\n",
       "      <th>3</th>\n",
       "      <td>3</td>\n",
       "      <td>1</td>\n",
       "    </tr>\n",
       "    <tr>\n",
       "      <th>4</th>\n",
       "      <td>4</td>\n",
       "      <td>1</td>\n",
       "    </tr>\n",
       "  </tbody>\n",
       "</table>\n",
       "</div>"
      ],
      "text/plain": [
       "   row_id  target\n",
       "0       0       0\n",
       "1       1       0\n",
       "2       2       1\n",
       "3       3       1\n",
       "4       4       1"
      ]
     },
     "execution_count": 43,
     "metadata": {},
     "output_type": "execute_result"
    }
   ],
   "source": [
    "sample = pd.read_csv('../data/sample_submission.csv')\n",
    "sample.head()"
   ]
  },
  {
   "cell_type": "code",
   "execution_count": 49,
   "metadata": {},
   "outputs": [
    {
     "name": "stdout",
     "output_type": "stream",
     "text": [
      "   row_id  target\n",
      "0       0       1\n",
      "1       1       1\n",
      "2       2       0\n",
      "3       3       0\n",
      "4       4       0\n"
     ]
    }
   ],
   "source": [
    "pred = (pred > 0.5).astype(int)\n",
    "# first row missing since we shifted\n",
    "pred = list(pred)\n",
    "pred.insert(0, pred[0])"
   ]
  },
  {
   "cell_type": "code",
   "execution_count": null,
   "metadata": {},
   "outputs": [],
   "source": [
    "submission = pd.DataFrame({'row_id': range(len(pred)), 'target': pred})\n",
    "print(submission.head())"
   ]
  },
  {
   "cell_type": "code",
   "execution_count": 46,
   "metadata": {},
   "outputs": [],
   "source": [
    "submission.to_csv('../data/submission.csv', index = False)"
   ]
  },
  {
   "cell_type": "code",
   "execution_count": 47,
   "metadata": {},
   "outputs": [
    {
     "name": "stdout",
     "output_type": "stream",
     "text": [
      "909616\n"
     ]
    }
   ],
   "source": [
    "print(len(submission))"
   ]
  }
 ],
 "metadata": {
  "kernelspec": {
   "display_name": "Python 3 (ipykernel)",
   "language": "python",
   "name": "python3"
  },
  "language_info": {
   "codemirror_mode": {
    "name": "ipython",
    "version": 3
   },
   "file_extension": ".py",
   "mimetype": "text/x-python",
   "name": "python",
   "nbconvert_exporter": "python",
   "pygments_lexer": "ipython3",
   "version": "3.9.20"
  }
 },
 "nbformat": 4,
 "nbformat_minor": 4
}
